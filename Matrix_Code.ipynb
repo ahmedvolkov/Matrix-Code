{
  "nbformat": 4,
  "nbformat_minor": 0,
  "metadata": {
    "colab": {
      "provenance": [],
      "authorship_tag": "ABX9TyMYXY4GSHiQJ8WWn6eKlmxm",
      "include_colab_link": true
    },
    "kernelspec": {
      "name": "python3",
      "display_name": "Python 3"
    },
    "language_info": {
      "name": "python"
    }
  },
  "cells": [
    {
      "cell_type": "markdown",
      "metadata": {
        "id": "view-in-github",
        "colab_type": "text"
      },
      "source": [
        "<a href=\"https://colab.research.google.com/github/ahmedvolkov/Matrix-Code/blob/main/Matrix_Code.ipynb\" target=\"_parent\"><img src=\"https://colab.research.google.com/assets/colab-badge.svg\" alt=\"Open In Colab\"/></a>"
      ]
    },
    {
      "cell_type": "code",
      "execution_count": null,
      "metadata": {
        "colab": {
          "base_uri": "https://localhost:8080/"
        },
        "id": "eNC9Qt2ekHdU",
        "outputId": "47986513-7fbf-4dab-e70b-0fcfe68bc6b5"
      },
      "outputs": [
        {
          "output_type": "stream",
          "name": "stdout",
          "text": [
            "Matriz Ingresada\n",
            "[0, 1, 0, 1, 1, 0, 1, 0, 1, 1]\n",
            "[1, 1, 1, 0, 1, 1, 0, 1, 1, 1]\n",
            "[1, 1, 1, 1, 0, 1, 1, 1, 0, 1]\n",
            "\n",
            "Matriz Limpiada\n",
            "[0, 1, 0, 1, 1, 0, 1, 0, 0, 1]\n",
            "[1, 0, 0, 0, 1, 1, 0, 0, 0, 1]\n",
            "[1, 0, 0, 0, 0, 1, 1, 1, 0, 1]\n",
            "\n",
            "Tiempo de ejecución total: 0.0011117458 segundos\n"
          ]
        }
      ],
      "source": [
        "import time\n",
        "\n",
        "inicio_tiempo = time.time()\n",
        "\n",
        "def transformar_matriz(matriz):\n",
        "    # Crear una copia de la matriz original para no modificarla directamente\n",
        "    nueva_matriz = [fila[:] for fila in matriz]\n",
        "\n",
        "    # Recorrer cada fila de la matriz\n",
        "    for fila in nueva_matriz:\n",
        "        # Procesar el inicio de la fila si empieza en 1\n",
        "        if fila[0] == 1:\n",
        "            i = 1\n",
        "            while i < len(fila) and fila[i] == 1:\n",
        "                fila[i] = 0\n",
        "                i += 1\n",
        "\n",
        "        # Procesar el final de la fila si termina en 1\n",
        "        if fila[-1] == 1:\n",
        "            j = len(fila) - 2\n",
        "            while j >= 0 and fila[j] == 1:\n",
        "                fila[j] = 0\n",
        "                j -= 1\n",
        "\n",
        "    return nueva_matriz\n",
        "\n",
        "# Ejemplo de uso\n",
        "matriz_ejemplo = [[0, 1, 0, 1, 1, 0, 1, 0, 1, 1],\n",
        "                  [1, 1, 1, 0, 1, 1, 0, 1, 1, 1],\n",
        "                  [1, 1, 1, 1, 0, 1, 1, 1, 0, 1]]\n",
        "\n",
        "print(\"Matriz Ingresada\")\n",
        "for fila in matriz_ejemplo:\n",
        "\tprint(fila)\n",
        "print()\n",
        "print(\"Matriz Limpiada\")\n",
        "\n",
        "resultado = transformar_matriz(matriz_ejemplo)\n",
        "for fila in resultado:\n",
        "    print(fila)\n",
        "\n",
        "print()\n",
        "\n",
        "fin_tiempo = time.time()\n",
        "print(f\"Tiempo de ejecución total: {fin_tiempo - inicio_tiempo:.10f} segundos\")"
      ]
    }
  ]
}